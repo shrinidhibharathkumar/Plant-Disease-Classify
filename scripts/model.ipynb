{
 "cells": [
  {
   "cell_type": "code",
   "execution_count": 13,
   "metadata": {},
   "outputs": [],
   "source": [
    "from ultralytics import YOLO\n",
    "import cv2\n",
    "import numpy as np\n",
    "import random\n",
    "model = YOLO(\"../models/yolo11n/yolo11nfp16/kaggle/working/weights/yolo11n-cls.onnx\")  # load an official model"
   ]
  },
  {
   "cell_type": "code",
   "execution_count": 14,
   "metadata": {},
   "outputs": [],
   "source": [
    "IMG_PATH = '../images/PotatoEarlyBlight3.jpg'"
   ]
  },
  {
   "cell_type": "code",
   "execution_count": 15,
   "metadata": {},
   "outputs": [
    {
     "name": "stdout",
     "output_type": "stream",
     "text": [
      "Loading ..\\models\\yolo11n\\yolo11nfp16\\kaggle\\working\\weights\\yolo11n-cls.onnx for ONNX Runtime inference...\n",
      "Using ONNX Runtime CPUExecutionProvider\n",
      "\n",
      "image 1/1 e:\\Plant Disease\\scripts\\..\\images\\PotatoEarlyBlight3.jpg: 640x640 Potato___Early_blight 1.00, Potato___Late_blight 0.00, Potato___healthy 0.00, Soybean___healthy 0.00, Tomato___Early_blight 0.00, 40.5ms\n",
      "Speed: 43.1ms preprocess, 40.5ms inference, 0.1ms postprocess per image at shape (1, 3, 640, 640)\n"
     ]
    }
   ],
   "source": [
    "results=model.predict(IMG_PATH,conf=0.75)"
   ]
  },
  {
   "cell_type": "code",
   "execution_count": 16,
   "metadata": {},
   "outputs": [],
   "source": [
    "# Load image\n",
    "image = cv2.imread(IMG_PATH)\n",
    "img_h, img_w = image.shape[:2]\n",
    "\n",
    "# Get prediction\n",
    "pred_idx = results[0].probs.top1\n",
    "pred_label = model.names[pred_idx]\n",
    "pred_conf = results[0].probs.top1conf\n",
    "text = f\"{pred_label} ({pred_conf*100:.2f}%)\"\n",
    "\n",
    "# Font & styling\n",
    "font = cv2.FONT_HERSHEY_SIMPLEX\n",
    "font_scale = 1\n",
    "thickness = 2\n",
    "text_color = (255, 255, 255)\n",
    "bg_color = (0, 0, 0)\n",
    "padding = 10\n",
    "\n",
    "# Calculate text size\n",
    "(text_w, text_h), baseline = cv2.getTextSize(text, font, font_scale, thickness)\n",
    "\n",
    "# Total label box size\n",
    "box_w = text_w + 2 * padding\n",
    "box_h = text_h + baseline + 2 * padding\n",
    "\n",
    "# Ensure the box fits inside the image\n",
    "x = 0  # start from left\n",
    "y = 0  # start from top\n",
    "\n",
    "# If box is too wide or tall, shrink font (fallback)\n",
    "while (box_w > img_w or box_h > img_h) and font_scale > 0.3:\n",
    "    font_scale -= 0.1\n",
    "    (text_w, text_h), baseline = cv2.getTextSize(text, font, font_scale, thickness)\n",
    "    box_w = text_w + 2 * padding\n",
    "    box_h = text_h + baseline + 2 * padding\n",
    "\n",
    "# Final positions\n",
    "x1 = x\n",
    "y1 = y\n",
    "x2 = x + box_w\n",
    "y2 = y + box_h\n",
    "\n",
    "# Draw background rectangle\n",
    "cv2.rectangle(image, (x1, y1), (x2, y2), bg_color, -1)\n",
    "\n",
    "# Put text inside the box\n",
    "text_x = x1 + padding\n",
    "text_y = y1 + padding + text_h\n",
    "cv2.putText(image, text, (text_x, text_y), font, font_scale, text_color, thickness)\n",
    "\n",
    "# Show result\n",
    "cv2.imshow(\"Annotated\", image)\n",
    "cv2.waitKey(0)\n",
    "cv2.destroyAllWindows()"
   ]
  }
 ],
 "metadata": {
  "kernelspec": {
   "display_name": ".venv",
   "language": "python",
   "name": "python3"
  },
  "language_info": {
   "codemirror_mode": {
    "name": "ipython",
    "version": 3
   },
   "file_extension": ".py",
   "mimetype": "text/x-python",
   "name": "python",
   "nbconvert_exporter": "python",
   "pygments_lexer": "ipython3",
   "version": "3.12.9"
  }
 },
 "nbformat": 4,
 "nbformat_minor": 2
}
